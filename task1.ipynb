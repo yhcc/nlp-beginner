{
 "cells": [
  {
   "cell_type": "code",
   "execution_count": 1,
   "metadata": {
    "collapsed": true
   },
   "outputs": [],
   "source": [
    "%matplotlib inline\n",
    "import matplotlib.pyplot as plt\n",
    "import numpy as np\n",
    "import pandas as pd"
   ]
  },
  {
   "cell_type": "markdown",
   "metadata": {},
   "source": [
    "# 1. Read data"
   ]
  },
  {
   "cell_type": "code",
   "execution_count": 2,
   "metadata": {
    "collapsed": true
   },
   "outputs": [],
   "source": [
    "df_train = pd.read_csv('train.tsv',sep='\\t')"
   ]
  },
  {
   "cell_type": "code",
   "execution_count": 3,
   "metadata": {},
   "outputs": [
    {
     "data": {
      "text/html": [
       "<div>\n",
       "<style>\n",
       "    .dataframe thead tr:only-child th {\n",
       "        text-align: right;\n",
       "    }\n",
       "\n",
       "    .dataframe thead th {\n",
       "        text-align: left;\n",
       "    }\n",
       "\n",
       "    .dataframe tbody tr th {\n",
       "        vertical-align: top;\n",
       "    }\n",
       "</style>\n",
       "<table border=\"1\" class=\"dataframe\">\n",
       "  <thead>\n",
       "    <tr style=\"text-align: right;\">\n",
       "      <th></th>\n",
       "      <th>PhraseId</th>\n",
       "      <th>SentenceId</th>\n",
       "      <th>Phrase</th>\n",
       "      <th>Sentiment</th>\n",
       "    </tr>\n",
       "  </thead>\n",
       "  <tbody>\n",
       "    <tr>\n",
       "      <th>0</th>\n",
       "      <td>1</td>\n",
       "      <td>1</td>\n",
       "      <td>A series of escapades demonstrating the adage ...</td>\n",
       "      <td>1</td>\n",
       "    </tr>\n",
       "    <tr>\n",
       "      <th>1</th>\n",
       "      <td>2</td>\n",
       "      <td>1</td>\n",
       "      <td>A series of escapades demonstrating the adage ...</td>\n",
       "      <td>2</td>\n",
       "    </tr>\n",
       "  </tbody>\n",
       "</table>\n",
       "</div>"
      ],
      "text/plain": [
       "   PhraseId  SentenceId                                             Phrase  \\\n",
       "0         1           1  A series of escapades demonstrating the adage ...   \n",
       "1         2           1  A series of escapades demonstrating the adage ...   \n",
       "\n",
       "   Sentiment  \n",
       "0          1  \n",
       "1          2  "
      ]
     },
     "execution_count": 3,
     "metadata": {},
     "output_type": "execute_result"
    }
   ],
   "source": [
    "df_train.head(2)"
   ]
  },
  {
   "cell_type": "code",
   "execution_count": 4,
   "metadata": {},
   "outputs": [
    {
     "name": "stdout",
     "output_type": "stream",
     "text": [
      "Train shape: (156060, 4)\n",
      "Number of unique sentences: 8529\n"
     ]
    }
   ],
   "source": [
    "print 'Train shape: {}'.format(df_train.shape)\n",
    "print 'Number of unique sentences: {}'.format(len(df_train.loc[:, 'SentenceId'].unique()))"
   ]
  },
  {
   "cell_type": "markdown",
   "metadata": {},
   "source": [
    "## 1.1 Distribution of sentiments"
   ]
  },
  {
   "cell_type": "code",
   "execution_count": 5,
   "metadata": {
    "collapsed": true
   },
   "outputs": [],
   "source": [
    "col_sentiment = df_train.loc[:,'Sentiment']"
   ]
  },
  {
   "cell_type": "code",
   "execution_count": 6,
   "metadata": {},
   "outputs": [
    {
     "data": {
      "image/png": "[encoded data removed]",
      "text/plain": [
       "<matplotlib.figure.Figure at 0x7f140191f9d0>"
      ]
     },
     "metadata": {},
     "output_type": "display_data"
    }
   ],
   "source": [
    "fig = plt.figure(figsize=(7,5))\n",
    "ax = fig.add_subplot(111)\n",
    "plt.title('The distribution of all labels')\n",
    "bins = [-0.4, 0.4,0.6, 1.4, 1.6, 2.4, 2.6, 3.4, 3.6,4.4 ]\n",
    "counts, bins, patches = plt.hist(col_sentiment, bins=bins, align='mid')\n",
    "\n",
    "for i in xrange(5):\n",
    "    s = str(int(counts[2*i])) + '/{:.2f}%'.format(counts[2*i]/sum(counts)*100)\n",
    "    ax.text(i-0.4, counts[2*i]+400, s)\n",
    "\n",
    "xlabels = ['Negative', 'Somewhat negative', 'Neutral', 'Somewhat positive', 'Positive']\n",
    "_ = ax.set_xticklabels([''] + xlabels)\n",
    "\n",
    "del col_sentiment"
   ]
  },
  {
   "cell_type": "markdown",
   "metadata": {},
   "source": [
    "This dataset is imbalanced, half of its labels are Neutral "
   ]
  },
  {
   "cell_type": "markdown",
   "metadata": {
    "collapsed": true
   },
   "source": [
    "## 1.2 Distribution of sentence sentiments"
   ]
  },
  {
   "cell_type": "code",
   "execution_count": 7,
   "metadata": {},
   "outputs": [
    {
     "name": "stdout",
     "output_type": "stream",
     "text": [
      "DF shape:(8529, 4)\n"
     ]
    }
   ],
   "source": [
    "df_sentences = df_train.drop_duplicates(subset='SentenceId', keep='first')\n",
    "print 'DF shape:{}'.format(df_sentences.shape)"
   ]
  },
  {
   "cell_type": "code",
   "execution_count": 8,
   "metadata": {},
   "outputs": [
    {
     "data": {
      "text/html": [
       "<div>\n",
       "<style>\n",
       "    .dataframe thead tr:only-child th {\n",
       "        text-align: right;\n",
       "    }\n",
       "\n",
       "    .dataframe thead th {\n",
       "        text-align: left;\n",
       "    }\n",
       "\n",
       "    .dataframe tbody tr th {\n",
       "        vertical-align: top;\n",
       "    }\n",
       "</style>\n",
       "<table border=\"1\" class=\"dataframe\">\n",
       "  <thead>\n",
       "    <tr style=\"text-align: right;\">\n",
       "      <th></th>\n",
       "      <th>PhraseId</th>\n",
       "      <th>SentenceId</th>\n",
       "      <th>Phrase</th>\n",
       "      <th>Sentiment</th>\n",
       "    </tr>\n",
       "  </thead>\n",
       "  <tbody>\n",
       "    <tr>\n",
       "      <th>0</th>\n",
       "      <td>1</td>\n",
       "      <td>1</td>\n",
       "      <td>A series of escapades demonstrating the adage ...</td>\n",
       "      <td>1</td>\n",
       "    </tr>\n",
       "    <tr>\n",
       "      <th>63</th>\n",
       "      <td>64</td>\n",
       "      <td>2</td>\n",
       "      <td>This quiet , introspective and entertaining in...</td>\n",
       "      <td>4</td>\n",
       "    </tr>\n",
       "  </tbody>\n",
       "</table>\n",
       "</div>"
      ],
      "text/plain": [
       "    PhraseId  SentenceId                                             Phrase  \\\n",
       "0          1           1  A series of escapades demonstrating the adage ...   \n",
       "63        64           2  This quiet , introspective and entertaining in...   \n",
       "\n",
       "    Sentiment  \n",
       "0           1  \n",
       "63          4  "
      ]
     },
     "execution_count": 8,
     "metadata": {},
     "output_type": "execute_result"
    }
   ],
   "source": [
    "df_sentences.head(2)"
   ]
  },
  {
   "cell_type": "code",
   "execution_count": 9,
   "metadata": {},
   "outputs": [
    {
     "data": {
      "image/png": "[encoded data removed]",
      "text/plain": [
       "<matplotlib.figure.Figure at 0x7f140324b0d0>"
      ]
     },
     "metadata": {},
     "output_type": "display_data"
    }
   ],
   "source": [
    "col_sentence_sentiment = df_sentences.loc[:,'Sentiment']\n",
    "\n",
    "fig = plt.figure(figsize=(7,5))\n",
    "ax = fig.add_subplot(111)\n",
    "plt.title('The distribution of sentence sentiments')\n",
    "bins = [-0.4, 0.4,0.6, 1.4, 1.6, 2.4, 2.6, 3.4, 3.6,4.4 ]\n",
    "counts, bins, patches = plt.hist(col_sentence_sentiment, bins=bins, align='mid')\n",
    "\n",
    "for i in xrange(5):\n",
    "    s = str(int(counts[2*i])) + '/{:.2f}%'.format(counts[2*i]/sum(counts)*100)\n",
    "    ax.text(i-0.4, counts[2*i]+20, s)\n",
    "\n",
    "xlabels = ['Negative', 'Somewhat negative', 'Neutral', 'Somewhat positive', 'Positive']\n",
    "_ = ax.set_xticklabels([''] + xlabels)\n",
    "\n",
    "del col_sentence_sentiment, df_sentences"
   ]
  },
  {
   "cell_type": "markdown",
   "metadata": {},
   "source": [
    "Above figures reveal differences between sentence sentiments and dataset sentiments. "
   ]
  },
  {
   "cell_type": "markdown",
   "metadata": {},
   "source": [
    "### 文本处理类\n",
    "(1)所有word均小写化处理  \n",
    "(2)使用空格代替除了[a-zA-Z.!?]的所有字符"
   ]
  },
  {
   "cell_type": "code",
   "execution_count": 10,
   "metadata": {
    "collapsed": true
   },
   "outputs": [],
   "source": [
    "from scipy.sparse import csc_matrix\n",
    "import numpy as np\n",
    "from copy import deepcopy\n",
    "import re\n",
    "\n",
    "from nltk.stem import WordNetLemmatizer\n",
    "wnl = WordNetLemmatizer()\n",
    "\n",
    "class WordDictionary:\n",
    "    \"\"\"\n",
    "    case insensitive \n",
    "    \"\"\"\n",
    "    def __init__(self, n_grams=1, lemmatization=False):\n",
    "        self.word2index = {'<unknown>':0}\n",
    "        self.index2word = {0:'<unknown>'}\n",
    "        self.n_words = 1\n",
    "        self.wordCounts = {}\n",
    "        self.n_grams = n_grams\n",
    "        self.lemmatization = lemmatization\n",
    "    def addSentence(self, sentence):\n",
    "        s = sentence.lower()\n",
    "        s = re.sub(r'[^a-zA-Z.!?]',r' ', s)\n",
    "        words = s.split()\n",
    "\n",
    "        for idx in xrange(len(words)):\n",
    "            for i in xrange(self.n_grams):\n",
    "                if idx+i<len(words):\n",
    "                    original_word = \" \".join(words[idx:idx+i+1])\n",
    "                    self.addWord(original_word)\n",
    "                    if self.lemmatization:\n",
    "                        lemmatized_word = self.lemmatizeWord(original_word)\n",
    "                        if lemmatized_word!=original_word:\n",
    "                            self.addWord(lemmatized_word)\n",
    "                else:\n",
    "                    break\n",
    "    def addWord(self, word):\n",
    "        if not self.word2index.has_key(word):\n",
    "            self.word2index[word] = self.n_words\n",
    "            self.index2word[self.n_words] = word\n",
    "            self.n_words += 1\n",
    "            self.wordCounts[word] = 1\n",
    "        else:\n",
    "            self.wordCounts[word] += 1\n",
    "    def lemmatizeWord(self, word):\n",
    "        \"\"\"\n",
    "        word: can be blank separated word\n",
    "        \"\"\"\n",
    "        word_ = word.split()\n",
    "        lemmatized_words = []\n",
    "        for w in word_:\n",
    "            lemmatized_words.append(wnl.lemmatize(w))\n",
    "        return \" \".join(lemmatized_words)\n",
    "    \n",
    "    def filterWords(self, min_val = None, max_val=None, verbose=True):\n",
    "        \"\"\"\n",
    "        min_val: int. Occurrence counts lower than this value will be returned.\n",
    "        max_val: int. Occurrence counts bigger than this value will be returned. \n",
    "        \"\"\"\n",
    "        words = []\n",
    "        print_words = []\n",
    "        for k, v in self.wordCounts.iteritems():\n",
    "            if min_val!=None and v <= min_val:\n",
    "                words.append(k)\n",
    "                print_words.append((k,v))\n",
    "            if max_val!=None and v >= max_val:\n",
    "                words.append(k)\n",
    "                print_words.append((k,v))\n",
    "        if verbose:\n",
    "            print print_words\n",
    "        return words\n",
    "    def dropAndReindex(self, dropWords):\n",
    "        \"\"\"\n",
    "        dropWords: delete word in dropWords\n",
    "        \"\"\"\n",
    "        need_reindex = False\n",
    "        for word in dropWords:\n",
    "            if self.word2index.has_key(word):\n",
    "                self.word2index.pop(word)\n",
    "                self.wordCounts.pop(word)\n",
    "                need_reindex = True\n",
    "        if need_reindex:\n",
    "            self.n_words = 1\n",
    "            tmp_dict = deepcopy(self.word2index)\n",
    "            self.word2index = {'<unknown>':0}\n",
    "            self.index2word = {0:'<unknown>'}  \n",
    "            for k,v in tmp_dict.iteritems():\n",
    "                self.word2index[k] = self.n_words\n",
    "                self.index2word[self.n_words] = word\n",
    "                self.n_words += 1\n",
    "            print \"Finish reindex\"\n",
    "        else:\n",
    "            print 'No need to reindex'\n",
    "    \n",
    "    def convertToVector(self, sentence, count=True, sparse=False):\n",
    "        \"\"\"\n",
    "        sentence: str, blank seperated sentence\n",
    "        count:boolean. If yes, the vector's entry means the number of occurrence\n",
    "        sparse: boolean. If yes, the vector will be sparse\n",
    "        \"\"\"\n",
    "        words = sentence.lower().split()\n",
    "        data = []\n",
    "        for idx in xrange(len(words)):\n",
    "            for i in xrange(self.n_grams):\n",
    "                if idx+i<len(words):\n",
    "                    original_word = \" \".join(words[idx:idx+i+1])\n",
    "                    if self.word2index.has_key(original_word):\n",
    "                        data.append(self.word2index[original_word])\n",
    "                    else:\n",
    "                        data.append(self.word2index['<unknown>'])                    \n",
    "                    if self.lemmatization:\n",
    "                        lemmatized_word = self.lemmatizeWord(original_word)\n",
    "                        if lemmatized_word!=original_word:\n",
    "                            if self.word2index.has_key(lemmatized_word):\n",
    "                                data.append(self.word2index[lemmatized_word])                         \n",
    "                else:\n",
    "                    break\n",
    "        if not count:\n",
    "            data = np.unique(data)\n",
    "        if sparse:\n",
    "            length = len(data)\n",
    "            res = csc_matrix((np.ones(length), (np.zeros(length), data)), shape=(1, self.n_words))\n",
    "        else:\n",
    "            res = np.zeros((1, self.n_words))\n",
    "            for d in data:\n",
    "                res[0, d] += 1\n",
    "        return res\n",
    "        "
   ]
  },
  {
   "cell_type": "markdown",
   "metadata": {},
   "source": [
    "### 数据集拆分以及word向量化方法\n",
    "由于数据中大量存在0，所以这里使用了sparse的表示方法来表示词向量"
   ]
  },
  {
   "cell_type": "code",
   "execution_count": 11,
   "metadata": {
    "collapsed": true
   },
   "outputs": [],
   "source": [
    "import random\n",
    "import scipy\n",
    "from scipy.sparse import vstack\n",
    "\n",
    "def val_split(df, val_size=0.2):\n",
    "    \"\"\"\n",
    "    This method considers Stratified sampling.\n",
    "    \"\"\"\n",
    "    y = df.iloc[:, -1]\n",
    "    classes = y.unique()\n",
    "    train_idx = []\n",
    "    val_idx = []\n",
    "    for class_ in classes:\n",
    "        bool_indexes = (y==class_)\n",
    "        indexes = y[bool_indexes].index.tolist()\n",
    "        length = len(indexes)\n",
    "        random.shuffle(indexes)\n",
    "        train_idx.extend(indexes[:-int(length*val_size)])\n",
    "        val_idx.extend(indexes[-int(length*val_size):])\n",
    "    random.shuffle(train_idx)\n",
    "    random.shuffle(val_idx)\n",
    "        \n",
    "    return train_idx, val_idx\n",
    "\n",
    "def word2index(df_data, words, count=True, sparse=True):\n",
    "    Xs = []\n",
    "    ys = []\n",
    "    for data in df_data.itertuples():\n",
    "        Xs.append(words.convertToVector(data[1],count=count, sparse=sparse))\n",
    "        ys.append(data[2])\n",
    "    if isinstance(Xs[0], scipy.sparse.csc.csc_matrix):\n",
    "        Xs = vstack(Xs,format='csc')\n",
    "    else:\n",
    "        Xs = np.array(Xs)\n",
    "    return Xs, np.asarray(ys)"
   ]
  },
  {
   "cell_type": "markdown",
   "metadata": {},
   "source": [
    "### LogisticRegression模型相关的内容\n",
    "由于数据不平衡，这里自动将各label的比例作为class_weight参与训练。"
   ]
  },
  {
   "cell_type": "code",
   "execution_count": 12,
   "metadata": {
    "collapsed": true
   },
   "outputs": [],
   "source": [
    "def AccuracyLossAndGradient(target, predicts, class_weight):\n",
    "    xindex = np.arange(predicts.shape[0], dtype=int)\n",
    "    yindex = np.zeros(predicts.shape[0],dtype=int)\n",
    "    \n",
    "    \n",
    "    \n",
    "    return loss, grads    "
   ]
  },
  {
   "cell_type": "code",
   "execution_count": null,
   "metadata": {
    "collapsed": true
   },
   "outputs": [],
   "source": []
  },
  {
   "cell_type": "code",
   "execution_count": 13,
   "metadata": {
    "collapsed": true
   },
   "outputs": [],
   "source": [
    "def CrossEntropyLossAndGradient(target, predicts, class_weights):\n",
    "    xindex = np.arange(predicts.shape[0], dtype=int)\n",
    "    yindex = np.zeros(predicts.shape[0],dtype=int)\n",
    "    predict_idx = np.argmax(predicts, axis=1)\n",
    "    \n",
    "    class_weights = np.repeat(class_weights.reshape((1, predicts.shape[1])), predicts.shape[0], axis=0)\n",
    "    class_weights = class_weights[xindex, 0]\n",
    "    \n",
    "    loss = -np.log(predicts[xindex, target])*class_weights\n",
    "    \n",
    "    grads = np.repeat(predicts[:,:1], predicts.shape[1], axis=1)\n",
    "    grads[xindex, target] -= predicts[xindex, yindex]/predicts[xindex, target]\n",
    "    loss = np.mean(loss)\n",
    "    grads *= class_weights.reshape((-1, 1))\n",
    "    return loss, grads\n",
    "\n",
    "def get_batch_index(total_samples, batch_size):\n",
    "    sindex = 0\n",
    "    eindex = batch_size\n",
    "    while eindex<total_samples:\n",
    "        yield sindex, eindex\n",
    "        sindex = eindex\n",
    "        eindex += sindex\n",
    "    if sindex<total_samples:\n",
    "        yield sindex, total_samples\n",
    "        \n",
    "def SGD(f, w0, b0, Xs, ys, step=0.1, eps=0.00001, iterations=20, \n",
    "                    print_every=10, batch_size=512, shuffle=False):\n",
    "    iter = 0\n",
    "    while iter<iterations:\n",
    "        if shuffle:\n",
    "            indexes = np.arange(X.shape[0])\n",
    "            random.shuffle(indexes)\n",
    "            Xs = Xs[indexes]\n",
    "            ys = ys[indexes]\n",
    "        for sindex, eindex in get_batch_index(Xs.shape[0], batch_size):\n",
    "            x = Xs[sindex:eindex]\n",
    "            y = ys[sindex:eindex]\n",
    "            loss, gradW, gradB = f(w0, b0, Xs, ys)\n",
    "            delta_w = step*gradW\n",
    "            delta_b = step*gradB\n",
    "            w0 = w0 - delta_w\n",
    "            b0 = b0 - delta_b\n",
    "        \n",
    "        iter += 1\n",
    "        if iter%print_every==0:\n",
    "            print \"[{}/{}] loss:{:.4f}\".format(iter, iterations, loss)\n",
    "        if np.sqrt(np.sum(delta_w*delta_w))<eps or loss<0.001:\n",
    "            print \"Small gradient or loss detects, finish looping...\"\n",
    "            break\n",
    "    return w0, b0    \n",
    "\n",
    "def GradientDescent(f, w0, b0, Xs, ys, step=1, eps=0.00001, iterations=200, \n",
    "                    print_every=10, batch_size=512, shuffle=False):\n",
    "    \"\"\"\n",
    "    f(w0, b0, X, y): return loss, gradw, gradb\n",
    "    \"\"\"\n",
    "    iter = 0\n",
    "    while iter<iterations:\n",
    "        losses = gradWs = gradBs = 0\n",
    "        counter = 0\n",
    "        if shuffle:\n",
    "            indexes = np.arange(X.shape[0])\n",
    "            random.shuffle(indexes)\n",
    "            Xs = Xs[indexes]\n",
    "            ys = ys[indexes]\n",
    "        for sindex, eindex in get_batch_index(Xs.shape[0], batch_size):\n",
    "            x = Xs[sindex:eindex]\n",
    "            y = ys[sindex:eindex]\n",
    "            loss, gradW, gradB = f(w0, b0, Xs, ys)\n",
    "            losses += loss\n",
    "            gradWs += gradW\n",
    "            gradBs += gradB\n",
    "            counter += 1\n",
    "        \n",
    "        losses /= counter\n",
    "        gradWs /= counter\n",
    "        gradBs /= counter\n",
    "        \n",
    "        delta_w = step*gradWs\n",
    "        delta_b = step*gradBs\n",
    "        w0 = w0 - delta_w\n",
    "        b0 = b0 - delta_b\n",
    "        \n",
    "        iter += 1\n",
    "        if iter%print_every==0:\n",
    "            print \"[{}/{}] loss:{:.4f}\".format(iter, iterations, losses)\n",
    "        if np.sqrt(np.sum(delta_w*delta_w))<eps or loss<0.001:\n",
    "            print \"Small gradient or loss detects, finish looping...\"\n",
    "            break\n",
    "    return w0, b0\n",
    "    \n",
    "class LogisticRegression:\n",
    "    def __init__(self, C=0.1, step=0.1):\n",
    "        self.C = C\n",
    "        self.step = step\n",
    "    def fit(self, Xs, ys, val_Xs=None, val_ys=None, class_weights='balanced', loss_f=CrossEntropyLossAndGradient, \n",
    "            update=SGD, batch_size=4096, max_iter=200):\n",
    "        n_classes = len(np.unique(ys))\n",
    "        self.weights = np.zeros((Xs.shape[1], n_classes-1))\n",
    "        self.bias = np.zeros((1, n_classes-1))\n",
    "        \n",
    "        if class_weights=='balanced':\n",
    "            class_weights = np.bincount(ys)\n",
    "            class_weights = float(max(class_weights))/class_weights\n",
    "        else:\n",
    "            class_weights = np.ones(n_classes)\n",
    "        \n",
    "        def f(w0, b0, x, y):\n",
    "            if isinstance(x, scipy.sparse.csc.csc_matrix):\n",
    "                mul = np.dot(x, csc_matrix(w0)).toarray()\n",
    "            else:\n",
    "                mul = np.dot(x, w0)\n",
    "            predicts = np.exp(mul + b0)\n",
    "            norm = 1 + np.sum(predicts, axis=1, keepdims=True)\n",
    "            predicts = np.concatenate((np.ones((predicts.shape[0], 1)), predicts), axis=1)\n",
    "            norm_predicts = predicts/norm\n",
    "            loss, grads = loss_f(y, norm_predicts, class_weights)\n",
    "            \n",
    "            grads = predicts * grads\n",
    "            gradW = np.dot(x.T, csc_matrix(grads[:, 1:])).toarray()\n",
    "            gradW /= x.shape[0]\n",
    "            gradB = np.mean(grads[:, 1:], axis=0)\n",
    "            \n",
    "            w_regularize = 0.5*np.sum(np.sqrt(np.sum(w0*w0, axis=0)))\n",
    "            loss += self.C*w_regularize\n",
    "            gradW += self.C*w0\n",
    "            \n",
    "            return loss, gradW, gradB\n",
    "        \n",
    "        self.weights, self.bias = update(f, self.weights, self.bias, Xs, ys, step=self.step, \n",
    "                                                  batch_size=batch_size, iterations=max_iter)\n",
    "        \n",
    "        if val_Xs!=None:\n",
    "            print 'Validation accuracy:{:.4f}'.format(self.score(val_Xs, val_ys))\n",
    "        \n",
    "    def predict(self, X):\n",
    "        if isinstance(X, scipy.sparse.csc.csc_matrix):\n",
    "            mul = np.dot(X, csc_matrix(self.weights)).toarray()\n",
    "        else:\n",
    "            mul = np.dot(X, self.weights)\n",
    "        probs = np.exp(mul + self.bias)\n",
    "        probs = np.concatenate((np.ones((probs.shape[0], 1)), probs), axis=1)\n",
    "        predicts = np.argmax(probs, axis=1)\n",
    "        return predicts\n",
    "    \n",
    "    def score(self, X, y):\n",
    "        predicts = self.predict(X)\n",
    "        return np.sum(predicts==y,dtype=float)/X.shape[0]\n",
    "    "
   ]
  },
  {
   "cell_type": "markdown",
   "metadata": {},
   "source": [
    "### 使用20%的数据作为验证集(对比各种参数、特征选择的优劣) \n",
    "由于label分布不均匀，所以这里使用了Stratified的方式拆分数据集，保证train,val数据中各种label的比例是一致的。PS：这里没有再单独划分测试集是由于所有选择均未进行针对验证集的参数搜索(即不太可能出现对验证集overfitting)。"
   ]
  },
  {
   "cell_type": "code",
   "execution_count": 14,
   "metadata": {
    "collapsed": true
   },
   "outputs": [],
   "source": [
    "train_idx, val_idx = val_split(df_train.iloc[:, -2:], val_size=0.2)\n",
    "#val_idx, test_idx = val_split(df_train.iloc[val_idx, -2:], val_size=0.33)"
   ]
  },
  {
   "cell_type": "markdown",
   "metadata": {},
   "source": [
    "# 2. 不同特征的影响\n",
    "以下四种特征  \n",
    "（1)1-gram, binary\n",
    "（2)1-gram, 计数，下同 \n",
    "（3)1-gram, 使用lemmatization  \n",
    "（4)1-gram, 使用lemmatization且删除仅出现一次的word和stop words   \n",
    "（5)2-gram  \n",
    "\n",
    "最终结果："
   ]
  },
  {
   "cell_type": "markdown",
   "metadata": {},
   "source": [
    "<table border=\"1\" width=900>\n",
    "<tr>\n",
    "<th>Feature</th>\n",
    "<th>Train loss</th>\n",
    "<th>Val accuracy</th>\n",
    "<th>Time</th>\n",
    "</tr>\n",
    "<tr>\n",
    "<td>1-gram, binary</td>\n",
    "<td>12.1930</td>\n",
    "<td>0.5652</td>\n",
    "<td>1min 51s</td>\n",
    "</tr>\n",
    "<tr>\n",
    "<td>1-gram, count</td>\n",
    "<td>12.2055</td>\n",
    "<td>0.5639</td>\n",
    "<td>1min 53s</td>\n",
    "</tr>\n",
    "<tr>\n",
    "<td>1-gram, count, lemmatization</td>\n",
    "<td>12.1434</td>\n",
    "<td>0.5652</td>\n",
    "<td>1min 55s</td>\n",
    "</tr>\n",
    "<tr>\n",
    "<td>1-gram, count, lemmatization, trim words</td>\n",
    "<td>12.1707</td>\n",
    "<td>0.5655</td>\n",
    "<td>2min</td>\n",
    "</tr>\n",
    "<tr>\n",
    "<td>2-gram, count</td>\n",
    "<td>12.7899</td>\n",
    "<td>0.5774</td>\n",
    "<td>4min 59s</td>\n",
    "</tr>\n",
    "</table>\n",
    "\n",
    "其它训练参数，均保持一致。例如优化算法SGD，lr=0.1, C=0.001(l2正则比例)，200个iteration"
   ]
  },
  {
   "cell_type": "markdown",
   "metadata": {},
   "source": [
    "结果显示：效果最好的是2-gram，count。其次是1-gram+count+lemmatization+trim words. "
   ]
  },
  {
   "cell_type": "code",
   "execution_count": 15,
   "metadata": {
    "collapsed": true,
    "scrolled": true
   },
   "outputs": [],
   "source": [
    "random.seed(1234)\n",
    "lg = LogisticRegression(C=0.001, step=0.1)"
   ]
  },
  {
   "cell_type": "markdown",
   "metadata": {},
   "source": [
    "## 2.1. one-gram, binary"
   ]
  },
  {
   "cell_type": "code",
   "execution_count": 16,
   "metadata": {},
   "outputs": [
    {
     "name": "stdout",
     "output_type": "stream",
     "text": [
      "Train vocabulary size: 15181\n",
      "trainX shape:(124850, 15181)\n"
     ]
    }
   ],
   "source": [
    "wordDictionary = WordDictionary(n_grams=1, lemmatization=False)\n",
    "\n",
    "for data in df_train['Phrase']:\n",
    "    wordDictionary.addSentence(data)\n",
    "\n",
    "print \"Train vocabulary size: {}\".format(wordDictionary.n_words)\n",
    "\n",
    "#向量化\n",
    "train_Xs,train_ys = word2index(df_train.iloc[train_idx, -2:], wordDictionary, count=False)\n",
    "val_Xs, val_ys = word2index(df_train.iloc[val_idx, -2:], wordDictionary, count=False)\n",
    "print 'trainX shape:{}'.format(train_Xs.shape)"
   ]
  },
  {
   "cell_type": "code",
   "execution_count": 17,
   "metadata": {},
   "outputs": [
    {
     "name": "stdout",
     "output_type": "stream",
     "text": [
      "[10/200] loss:13.7027\n",
      "[20/200] loss:13.4544\n",
      "[30/200] loss:13.2877\n",
      "[40/200] loss:13.1539\n",
      "[50/200] loss:13.0414\n",
      "[60/200] loss:12.9441\n",
      "[70/200] loss:12.8583\n",
      "[80/200] loss:12.7813\n",
      "[90/200] loss:12.7114\n",
      "[100/200] loss:12.6473\n",
      "[110/200] loss:12.5880\n",
      "[120/200] loss:12.5328\n",
      "[130/200] loss:12.4812\n",
      "[140/200] loss:12.4326\n",
      "[150/200] loss:12.3867\n",
      "[160/200] loss:12.3432\n",
      "[170/200] loss:12.3018\n",
      "[180/200] loss:12.2624\n",
      "[190/200] loss:12.2248\n",
      "[200/200] loss:12.1889\n",
      "Validation accuracy:0.5677\n",
      "CPU times: user 1min 52s, sys: 4 ms, total: 1min 52s\n",
      "Wall time: 1min 52s\n"
     ]
    }
   ],
   "source": [
    "%%time\n",
    "lg.fit(train_Xs, train_ys, val_Xs, val_ys, update=SGD, max_iter=200)"
   ]
  },
  {
   "cell_type": "code",
   "execution_count": 19,
   "metadata": {
    "scrolled": true
   },
   "outputs": [
    {
     "name": "stdout",
     "output_type": "stream",
     "text": [
      "[10/200] loss:1.3405\n",
      "[20/200] loss:1.2912\n",
      "[30/200] loss:1.2559\n",
      "[40/200] loss:1.2275\n",
      "[50/200] loss:1.2035\n",
      "[60/200] loss:1.1825\n",
      "[70/200] loss:1.1639\n",
      "[80/200] loss:1.1472\n",
      "[90/200] loss:1.1319\n",
      "[100/200] loss:1.1179\n",
      "[110/200] loss:1.1049\n",
      "[120/200] loss:1.0929\n",
      "[130/200] loss:1.0817\n",
      "[140/200] loss:1.0712\n",
      "[150/200] loss:1.0613\n",
      "[160/200] loss:1.0519\n",
      "[170/200] loss:1.0431\n",
      "[180/200] loss:1.0347\n",
      "[190/200] loss:1.0268\n",
      "[200/200] loss:1.0192\n",
      "Validation accuracy:0.6148\n",
      "CPU times: user 1min 56s, sys: 16 ms, total: 1min 56s\n",
      "Wall time: 1min 56s\n"
     ]
    }
   ],
   "source": [
    "%%time\n",
    "lg = LogisticRegression(C=0.0, step=5.5)\n",
    "lg.fit(train_Xs, train_ys, val_Xs, val_ys, class_weights=None, update=SGD, max_iter=200)"
   ]
  },
  {
   "cell_type": "markdown",
   "metadata": {},
   "source": [
    "## 2.2. one-gram"
   ]
  },
  {
   "cell_type": "code",
   "execution_count": 41,
   "metadata": {},
   "outputs": [
    {
     "name": "stdout",
     "output_type": "stream",
     "text": [
      "Train vocabulary size: 15181\n",
      "trainX shape:(124850, 15181)\n"
     ]
    }
   ],
   "source": [
    "wordDictionary = WordDictionary(n_grams=1, lemmatization=False)\n",
    "\n",
    "for data in df_train['Phrase']:\n",
    "    wordDictionary.addSentence(data)\n",
    "\n",
    "print \"Train vocabulary size: {}\".format(wordDictionary.n_words)\n",
    "\n",
    "#向量化\n",
    "train_Xs,train_ys = word2index(df_train.iloc[train_idx, -2:], wordDictionary)\n",
    "val_Xs, val_ys = word2index(df_train.iloc[val_idx, -2:], wordDictionary)\n",
    "print 'trainX shape:{}'.format(train_Xs.shape)"
   ]
  },
  {
   "cell_type": "code",
   "execution_count": 42,
   "metadata": {
    "scrolled": true
   },
   "outputs": [
    {
     "name": "stdout",
     "output_type": "stream",
     "text": [
      "[10/200] loss:13.7135\n",
      "[20/200] loss:13.4521\n",
      "[30/200] loss:13.2838\n",
      "[40/200] loss:13.1537\n",
      "[50/200] loss:13.0454\n",
      "[60/200] loss:12.9517\n",
      "[70/200] loss:12.8687\n",
      "[80/200] loss:12.7938\n",
      "[90/200] loss:12.7254\n",
      "[100/200] loss:12.6624\n",
      "[110/200] loss:12.6038\n",
      "[120/200] loss:12.5491\n",
      "[130/200] loss:12.4977\n",
      "[140/200] loss:12.4493\n",
      "[150/200] loss:12.4035\n",
      "[160/200] loss:12.3600\n",
      "[170/200] loss:12.3186\n",
      "[180/200] loss:12.2792\n",
      "[190/200] loss:12.2416\n",
      "[200/200] loss:12.2055\n",
      "Validation accuracy:0.5639\n",
      "CPU times: user 1min 53s, sys: 0 ns, total: 1min 53s\n",
      "Wall time: 1min 53s\n"
     ]
    }
   ],
   "source": [
    "%%time\n",
    "lg.fit(train_Xs, train_ys, val_Xs, val_ys, update=SGD, max_iter=200)"
   ]
  },
  {
   "cell_type": "markdown",
   "metadata": {},
   "source": [
    "## 2.3. 1-gram, 使用lemmatization "
   ]
  },
  {
   "cell_type": "code",
   "execution_count": 31,
   "metadata": {},
   "outputs": [
    {
     "name": "stdout",
     "output_type": "stream",
     "text": [
      "Train vocabulary size: 15759\n",
      "trainX shape:(124850, 15759)\n"
     ]
    }
   ],
   "source": [
    "wordDictionary = WordDictionary(n_grams=1, lemmatization=True)\n",
    "\n",
    "for data in df_train['Phrase']:\n",
    "    wordDictionary.addSentence(data)\n",
    "\n",
    "print \"Train vocabulary size: {}\".format(wordDictionary.n_words)\n",
    "\n",
    "#向量化\n",
    "train_Xs,train_ys = word2index(df_train.iloc[train_idx, -2:], wordDictionary)\n",
    "val_Xs, val_ys = word2index(df_train.iloc[val_idx, -2:], wordDictionary)\n",
    "print 'trainX shape:{}'.format(train_Xs.shape)"
   ]
  },
  {
   "cell_type": "code",
   "execution_count": 32,
   "metadata": {
    "scrolled": true
   },
   "outputs": [
    {
     "name": "stdout",
     "output_type": "stream",
     "text": [
      "[10/200] loss:13.6924\n",
      "[20/200] loss:13.4152\n",
      "[30/200] loss:13.2374\n",
      "[40/200] loss:13.1016\n",
      "[50/200] loss:12.9898\n",
      "[60/200] loss:12.8940\n",
      "[70/200] loss:12.8095\n",
      "[80/200] loss:12.7337\n",
      "[90/200] loss:12.6647\n",
      "[100/200] loss:12.6012\n",
      "[110/200] loss:12.5424\n",
      "[120/200] loss:12.4875\n",
      "[130/200] loss:12.4360\n",
      "[140/200] loss:12.3875\n",
      "[150/200] loss:12.3416\n",
      "[160/200] loss:12.2981\n",
      "[170/200] loss:12.2567\n",
      "[180/200] loss:12.2172\n",
      "[190/200] loss:12.1795\n",
      "[200/200] loss:12.1434\n",
      "Validation accuracy:0.5652\n",
      "CPU times: user 1min 55s, sys: 4 ms, total: 1min 55s\n",
      "Wall time: 1min 55s\n"
     ]
    }
   ],
   "source": [
    "%%time\n",
    "lg.fit(train_Xs, train_ys, val_Xs, val_ys, update=SGD, max_iter=200)"
   ]
  },
  {
   "cell_type": "markdown",
   "metadata": {
    "collapsed": true
   },
   "source": [
    "## 2.4. 1-gram, 使用lemmatization且删除仅出现一次的word和stop words   "
   ]
  },
  {
   "cell_type": "code",
   "execution_count": 33,
   "metadata": {},
   "outputs": [
    {
     "name": "stdout",
     "output_type": "stream",
     "text": [
      "Train vocabulary size: 15759\n",
      "[('y', 1), ('tu', 1), ('prechewed', 1), ('aggrieved', 1), (u'casing', 1), ('recovers', 1), ('roland', 1), ('lifted', 1), ('credulity', 1), ('omitted', 1), ('petter', 1), ('harmlessly', 1), ('retrospective', 1), ('foreshadowing', 1), ('marinated', 1), ('casings', 1), ('piles', 1), ('implied', 1), ('underventilated', 1), ('unsaid', 1), ('joshua', 1), ('upends', 1), ('anciently', 1), ('overstylized', 1), ('luis', 1)]\n",
      "Finish reindex\n",
      "trainX shape:(124850, 15729)\n"
     ]
    }
   ],
   "source": [
    "wordDictionary = WordDictionary(n_grams=1, lemmatization=True)\n",
    "\n",
    "for data in df_train['Phrase']:\n",
    "    wordDictionary.addSentence(data)\n",
    "\n",
    "print \"Train vocabulary size: {}\".format(wordDictionary.n_words)\n",
    "\n",
    "#删除词语\n",
    "onetime_words = wordDictionary.filterWords(min_val=1)\n",
    "stop_words = ['a','an','the','at', 'on', 'in']\n",
    "drop_words = onetime_words + stop_words\n",
    "\n",
    "wordDictionary.dropAndReindex(drop_words)\n",
    "\n",
    "#向量化\n",
    "train_Xs,train_ys = word2index(df_train.iloc[train_idx, -2:], wordDictionary)\n",
    "val_Xs, val_ys = word2index(df_train.iloc[val_idx, -2:], wordDictionary)\n",
    "print 'trainX shape:{}'.format(train_Xs.shape)"
   ]
  },
  {
   "cell_type": "code",
   "execution_count": 34,
   "metadata": {
    "scrolled": true
   },
   "outputs": [
    {
     "name": "stdout",
     "output_type": "stream",
     "text": [
      "[10/200] loss:13.7368\n",
      "[20/200] loss:13.4548\n",
      "[30/200] loss:13.2756\n",
      "[40/200] loss:13.1393\n",
      "[50/200] loss:13.0271\n",
      "[60/200] loss:12.9306\n",
      "[70/200] loss:12.8455\n",
      "[80/200] loss:12.7688\n",
      "[90/200] loss:12.6990\n",
      "[100/200] loss:12.6347\n",
      "[110/200] loss:12.5751\n",
      "[120/200] loss:12.5194\n",
      "[130/200] loss:12.4672\n",
      "[140/200] loss:12.4180\n",
      "[150/200] loss:12.3715\n",
      "[160/200] loss:12.3274\n",
      "[170/200] loss:12.2855\n",
      "[180/200] loss:12.2455\n",
      "[190/200] loss:12.2073\n",
      "[200/200] loss:12.1707\n",
      "Validation accuracy:0.5655\n",
      "CPU times: user 2min, sys: 12 ms, total: 2min\n",
      "Wall time: 2min\n"
     ]
    }
   ],
   "source": [
    "%%time\n",
    "lg.fit(train_Xs, train_ys, val_Xs, val_ys, update=SGD, max_iter=200)"
   ]
  },
  {
   "cell_type": "markdown",
   "metadata": {},
   "source": [
    "## 2.5. two-gram  "
   ]
  },
  {
   "cell_type": "code",
   "execution_count": 35,
   "metadata": {},
   "outputs": [
    {
     "name": "stdout",
     "output_type": "stream",
     "text": [
      "Train vocabulary size: 98401\n",
      "trainX shape:(124850, 98401)\n"
     ]
    }
   ],
   "source": [
    "wordDictionary = WordDictionary(n_grams=2, lemmatization=False)\n",
    "\n",
    "for data in df_train['Phrase']:\n",
    "    wordDictionary.addSentence(data)\n",
    "\n",
    "print \"Train vocabulary size: {}\".format(wordDictionary.n_words)\n",
    "\n",
    "#向量化\n",
    "train_Xs,train_ys = word2index(df_train.iloc[train_idx, -2:], wordDictionary)\n",
    "val_Xs, val_ys = word2index(df_train.iloc[val_idx, -2:], wordDictionary)\n",
    "print 'trainX shape:{}'.format(train_Xs.shape)"
   ]
  },
  {
   "cell_type": "code",
   "execution_count": 36,
   "metadata": {
    "scrolled": true
   },
   "outputs": [
    {
     "name": "stdout",
     "output_type": "stream",
     "text": [
      "[10/200] loss:17.9426\n",
      "[20/200] loss:13.1355\n",
      "[30/200] loss:14.3905\n",
      "[40/200] loss:14.0615\n",
      "[50/200] loss:13.8706\n",
      "[60/200] loss:14.5525\n",
      "[70/200] loss:14.1135\n",
      "[80/200] loss:13.6519\n",
      "[90/200] loss:13.8325\n",
      "[100/200] loss:13.9594\n",
      "[110/200] loss:13.5596\n",
      "[120/200] loss:13.3854\n",
      "[130/200] loss:13.2536\n",
      "[140/200] loss:13.3453\n",
      "[150/200] loss:13.1500\n",
      "[160/200] loss:13.1256\n",
      "[170/200] loss:12.9953\n",
      "[180/200] loss:12.9514\n",
      "[190/200] loss:12.8524\n",
      "[200/200] loss:12.7899\n",
      "Validation accuracy:0.5774\n",
      "CPU times: user 4min 59s, sys: 0 ns, total: 4min 59s\n",
      "Wall time: 4min 59s\n"
     ]
    }
   ],
   "source": [
    "%%time\n",
    "lg.fit(train_Xs, train_ys, val_Xs, val_ys, update=SGD, max_iter=200, batch_size=128)"
   ]
  },
  {
   "cell_type": "markdown",
   "metadata": {},
   "source": [
    "# 3. GD与SGD对比\n",
    "特征: 1-gram, binary.  \n",
    "learning rate: 0.1, C:0.001, iterations: 200.  \n",
    "PS: SGD在上节中已测试，这里只使用GD再跑一次"
   ]
  },
  {
   "cell_type": "markdown",
   "metadata": {},
   "source": [
    "<table border=\"1\" width=900>\n",
    "<tr>\n",
    "<th>Algorithm</th>\n",
    "<th>Train loss</th>\n",
    "<th>Val accuracy</th>\n",
    "<th>Time</th>\n",
    "</tr>\n",
    "<tr>\n",
    "<td>SGD</td>\n",
    "<td>12.1930</td>\n",
    "<td>0.5652</td>\n",
    "<td>1min 51s</td>\n",
    "</tr>\n",
    "<tr>\n",
    "<td>GD</td>\n",
    "<td>13.2431</td>\n",
    "<td>0.5388</td>\n",
    "<td>1min 53s</td>\n",
    "</tr>\n",
    "</table>"
   ]
  },
  {
   "cell_type": "markdown",
   "metadata": {},
   "source": [
    "这里显示相同参数下，SGD能得到更高的validation accuracy."
   ]
  },
  {
   "cell_type": "code",
   "execution_count": 43,
   "metadata": {},
   "outputs": [
    {
     "name": "stdout",
     "output_type": "stream",
     "text": [
      "Train vocabulary size: 15181\n",
      "trainX shape:(124850, 15181)\n"
     ]
    }
   ],
   "source": [
    "wordDictionary = WordDictionary(n_grams=1, lemmatization=False)\n",
    "\n",
    "for data in df_train['Phrase']:\n",
    "    wordDictionary.addSentence(data)\n",
    "\n",
    "print \"Train vocabulary size: {}\".format(wordDictionary.n_words)\n",
    "\n",
    "#向量化\n",
    "train_Xs,train_ys = word2index(df_train.iloc[train_idx, -2:], wordDictionary, count=False)\n",
    "val_Xs, val_ys = word2index(df_train.iloc[val_idx, -2:], wordDictionary, count=False)\n",
    "print 'trainX shape:{}'.format(train_Xs.shape)"
   ]
  },
  {
   "cell_type": "code",
   "execution_count": 44,
   "metadata": {
    "scrolled": true
   },
   "outputs": [
    {
     "name": "stdout",
     "output_type": "stream",
     "text": [
      "[10/200] loss:14.6441\n",
      "[20/200] loss:14.1728\n",
      "[30/200] loss:13.9739\n",
      "[40/200] loss:13.8538\n",
      "[50/200] loss:13.7691\n",
      "[60/200] loss:13.7035\n",
      "[70/200] loss:13.6495\n",
      "[80/200] loss:13.6029\n",
      "[90/200] loss:13.5616\n",
      "[100/200] loss:13.5239\n",
      "[110/200] loss:13.4890\n",
      "[120/200] loss:13.4563\n",
      "[130/200] loss:13.4254\n",
      "[140/200] loss:13.3961\n",
      "[150/200] loss:13.3680\n",
      "[160/200] loss:13.3411\n",
      "[170/200] loss:13.3153\n",
      "[180/200] loss:13.2903\n",
      "[190/200] loss:13.2663\n",
      "[200/200] loss:13.2431\n",
      "Validation accuracy:0.5388\n",
      "CPU times: user 1min 53s, sys: 8 ms, total: 1min 53s\n",
      "Wall time: 1min 53s\n"
     ]
    }
   ],
   "source": [
    "%%time\n",
    "lg.fit(train_Xs, train_ys, val_Xs, val_ys, update=GradientDescent, max_iter=200)"
   ]
  },
  {
   "cell_type": "markdown",
   "metadata": {},
   "source": [
    "# 4. Learning rate的选择。\n",
    "特征: 1-gram, binary.  \n",
    "C:0.001, iterations: 200.  \n",
    "PS: lr=0.1已经跑过了，这里只跑0.05, 0.5, 1"
   ]
  },
  {
   "cell_type": "markdown",
   "metadata": {},
   "source": [
    "<table border=\"1\" width=900>\n",
    "<tr>\n",
    "<th>Learning rate</th>\n",
    "<th>Train loss</th>\n",
    "<th>Val accuracy</th>\n",
    "<th>Time</th>\n",
    "</tr>\n",
    "<td>0.05</td>\n",
    "<td>12.6509</td>\n",
    "<td>0.5536</td>\n",
    "<td>1min 51s</td>\n",
    "<tr>\n",
    "<td>0.1</td>\n",
    "<td>12.1930</td>\n",
    "<td>0.5652</td>\n",
    "<td>1min 51s</td>\n",
    "</tr>\n",
    "<tr>\n",
    "<td>0.5</td>\n",
    "<td>12.3858</td>\n",
    "<td><font color='red'>0.5883</font></td>\n",
    "<td>1min 47s</td>\n",
    "</tr>\n",
    "<tr>\n",
    "<td>1</td>\n",
    "<td>29.9642</td>\n",
    "<td>0.3516</td>\n",
    "<td>1min 47s</td>\n",
    "</tr>\n",
    "</table>"
   ]
  },
  {
   "cell_type": "code",
   "execution_count": 47,
   "metadata": {
    "collapsed": true
   },
   "outputs": [],
   "source": [
    "lg = LogisticRegression(C=0.001, step=0.05)"
   ]
  },
  {
   "cell_type": "code",
   "execution_count": 48,
   "metadata": {},
   "outputs": [
    {
     "name": "stdout",
     "output_type": "stream",
     "text": [
      "[10/200] loss:13.9693\n",
      "[20/200] loss:13.7015\n",
      "[30/200] loss:13.5601\n",
      "[40/200] loss:13.4550\n",
      "[50/200] loss:13.3669\n",
      "[60/200] loss:13.2894\n",
      "[70/200] loss:13.2197\n",
      "[80/200] loss:13.1563\n",
      "[90/200] loss:13.0980\n",
      "[100/200] loss:13.0442\n",
      "[110/200] loss:12.9941\n",
      "[120/200] loss:12.9472\n",
      "[130/200] loss:12.9031\n",
      "[140/200] loss:12.8616\n",
      "[150/200] loss:12.8222\n",
      "[160/200] loss:12.7847\n",
      "[170/200] loss:12.7491\n",
      "[180/200] loss:12.7150\n",
      "[190/200] loss:12.6823\n",
      "[200/200] loss:12.6509\n",
      "Validation accuracy:0.5536\n",
      "CPU times: user 1min 51s, sys: 0 ns, total: 1min 51s\n",
      "Wall time: 1min 51s\n"
     ]
    }
   ],
   "source": [
    "%%time\n",
    "lg.fit(train_Xs, train_ys, val_Xs, val_ys, update=SGD, max_iter=200)"
   ]
  },
  {
   "cell_type": "code",
   "execution_count": 69,
   "metadata": {
    "collapsed": true
   },
   "outputs": [],
   "source": [
    "lg = LogisticRegression(C=0.001, step=6.25)"
   ]
  },
  {
   "cell_type": "code",
   "execution_count": 70,
   "metadata": {},
   "outputs": [
    {
     "name": "stdout",
     "output_type": "stream",
     "text": [
      "[10/200] loss:1.4949\n",
      "[20/200] loss:1.4652\n",
      "[30/200] loss:1.4508\n",
      "[40/200] loss:1.4428\n",
      "[50/200] loss:1.4381\n",
      "[60/200] loss:1.4352\n",
      "[70/200] loss:1.4335\n",
      "[80/200] loss:1.4324\n",
      "[90/200] loss:1.4317\n",
      "[100/200] loss:1.4313\n",
      "[110/200] loss:1.4310\n",
      "[120/200] loss:1.4309\n",
      "[130/200] loss:1.4308\n",
      "[140/200] loss:1.4307\n",
      "[150/200] loss:1.4306\n",
      "[160/200] loss:1.4306\n",
      "[170/200] loss:1.4306\n",
      "[180/200] loss:1.4306\n",
      "[190/200] loss:1.4306\n",
      "[200/200] loss:1.4306\n",
      "Validation accuracy:0.4463\n",
      "CPU times: user 1min 52s, sys: 8 ms, total: 1min 52s\n",
      "Wall time: 1min 52s\n"
     ]
    }
   ],
   "source": [
    "%%time\n",
    "lg.fit(train_Xs, train_ys, val_Xs, val_ys, class_weights=None, update=SGD, max_iter=200)"
   ]
  },
  {
   "cell_type": "code",
   "execution_count": 51,
   "metadata": {
    "collapsed": true
   },
   "outputs": [],
   "source": [
    "lg = LogisticRegression(C=0.001, step=1)"
   ]
  },
  {
   "cell_type": "code",
   "execution_count": 52,
   "metadata": {},
   "outputs": [
    {
     "name": "stdout",
     "output_type": "stream",
     "text": [
      "[10/200] loss:39.8443\n",
      "[20/200] loss:37.7512\n",
      "[30/200] loss:36.2919\n",
      "[40/200] loss:35.1643\n",
      "[50/200] loss:34.2796\n",
      "[60/200] loss:33.5689\n",
      "[70/200] loss:32.9854\n",
      "[80/200] loss:32.4984\n",
      "[90/200] loss:32.0869\n",
      "[100/200] loss:31.7358\n",
      "[110/200] loss:31.4340\n",
      "[120/200] loss:31.1729\n",
      "[130/200] loss:30.9459\n",
      "[140/200] loss:30.7475\n",
      "[150/200] loss:30.5735\n",
      "[160/200] loss:30.4203\n",
      "[170/200] loss:30.2850\n",
      "[180/200] loss:30.1653\n",
      "[190/200] loss:30.0589\n",
      "[200/200] loss:29.9642\n",
      "Validation accuracy:0.3516\n",
      "CPU times: user 1min 47s, sys: 0 ns, total: 1min 47s\n",
      "Wall time: 1min 47s\n"
     ]
    }
   ],
   "source": [
    "%%time\n",
    "lg.fit(train_Xs, train_ys, val_Xs, val_ys, update=SGD, max_iter=200)"
   ]
  },
  {
   "cell_type": "code",
   "execution_count": null,
   "metadata": {
    "collapsed": true
   },
   "outputs": [],
   "source": []
  },
  {
   "cell_type": "code",
   "execution_count": null,
   "metadata": {
    "collapsed": true
   },
   "outputs": [],
   "source": []
  },
  {
   "cell_type": "code",
   "execution_count": null,
   "metadata": {
    "collapsed": true
   },
   "outputs": [],
   "source": []
  },
  {
   "cell_type": "code",
   "execution_count": null,
   "metadata": {
    "collapsed": true
   },
   "outputs": [],
   "source": []
  }
 ],
 "metadata": {
  "kernelspec": {
   "display_name": "Python 2",
   "language": "python",
   "name": "python2"
  },
  "language_info": {
   "codemirror_mode": {
    "name": "ipython",
    "version": 2
   },
   "file_extension": ".py",
   "mimetype": "text/x-python",
   "name": "python",
   "nbconvert_exporter": "python",
   "pygments_lexer": "ipython2",
   "version": "2.7.13"
  }
 },
 "nbformat": 4,
 "nbformat_minor": 1
}
